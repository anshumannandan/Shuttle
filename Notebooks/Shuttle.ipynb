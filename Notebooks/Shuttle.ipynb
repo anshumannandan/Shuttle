{
 "cells": [
  {
   "cell_type": "code",
   "execution_count": 1,
   "id": "f49b05bd",
   "metadata": {},
   "outputs": [],
   "source": [
    "import numpy as np\n",
    "import pandas as pd\n",
    "from sklearn.linear_model import LinearRegression \n",
    "from sklearn import metrics\n",
    "import math\n",
    "from sklearn import linear_model"
   ]
  },
  {
   "cell_type": "code",
   "execution_count": 21,
   "id": "ad261176",
   "metadata": {},
   "outputs": [
    {
     "data": {
      "text/html": [
       "<div>\n",
       "<style scoped>\n",
       "    .dataframe tbody tr th:only-of-type {\n",
       "        vertical-align: middle;\n",
       "    }\n",
       "\n",
       "    .dataframe tbody tr th {\n",
       "        vertical-align: top;\n",
       "    }\n",
       "\n",
       "    .dataframe thead th {\n",
       "        text-align: right;\n",
       "    }\n",
       "</style>\n",
       "<table border=\"1\" class=\"dataframe\">\n",
       "  <thead>\n",
       "    <tr style=\"text-align: right;\">\n",
       "      <th></th>\n",
       "      <th>Country</th>\n",
       "      <th>Commodity</th>\n",
       "      <th>Flow</th>\n",
       "      <th>Quantity</th>\n",
       "      <th>Category</th>\n",
       "      <th>Volume (m^3)</th>\n",
       "      <th>Distance from India (m)</th>\n",
       "      <th>Frieght Cost (USD)</th>\n",
       "    </tr>\n",
       "  </thead>\n",
       "  <tbody>\n",
       "    <tr>\n",
       "      <th>0</th>\n",
       "      <td>Albania</td>\n",
       "      <td>Poultry cuts &amp; offal, except livers, fresh or ...</td>\n",
       "      <td>Export</td>\n",
       "      <td>34</td>\n",
       "      <td>02_meat_and_edible_meat_offal</td>\n",
       "      <td>12</td>\n",
       "      <td>5940.830501</td>\n",
       "      <td>4840.697837</td>\n",
       "    </tr>\n",
       "    <tr>\n",
       "      <th>1</th>\n",
       "      <td>Albania</td>\n",
       "      <td>Poultry cuts &amp; offal, except livers, fresh or ...</td>\n",
       "      <td>Export</td>\n",
       "      <td>23</td>\n",
       "      <td>02_meat_and_edible_meat_offal</td>\n",
       "      <td>12</td>\n",
       "      <td>5940.830501</td>\n",
       "      <td>3069.710823</td>\n",
       "    </tr>\n",
       "    <tr>\n",
       "      <th>2</th>\n",
       "      <td>Albania</td>\n",
       "      <td>Swine meat, salted/dried/smoked not ham/should...</td>\n",
       "      <td>Export</td>\n",
       "      <td>11</td>\n",
       "      <td>02_meat_and_edible_meat_offal</td>\n",
       "      <td>12</td>\n",
       "      <td>5940.830501</td>\n",
       "      <td>1475.822511</td>\n",
       "    </tr>\n",
       "    <tr>\n",
       "      <th>3</th>\n",
       "      <td>Albania</td>\n",
       "      <td>Fowls, domestic, whole, frozen</td>\n",
       "      <td>Export</td>\n",
       "      <td>50</td>\n",
       "      <td>02_meat_and_edible_meat_offal</td>\n",
       "      <td>12</td>\n",
       "      <td>5940.830501</td>\n",
       "      <td>7083.948054</td>\n",
       "    </tr>\n",
       "    <tr>\n",
       "      <th>4</th>\n",
       "      <td>Albania</td>\n",
       "      <td>Meat and edible offal nes fresh, chilled or fr...</td>\n",
       "      <td>Export</td>\n",
       "      <td>71</td>\n",
       "      <td>02_meat_and_edible_meat_offal</td>\n",
       "      <td>12</td>\n",
       "      <td>5940.830501</td>\n",
       "      <td>9976.560176</td>\n",
       "    </tr>\n",
       "  </tbody>\n",
       "</table>\n",
       "</div>"
      ],
      "text/plain": [
       "   Country                                          Commodity    Flow  \\\n",
       "0  Albania  Poultry cuts & offal, except livers, fresh or ...  Export   \n",
       "1  Albania  Poultry cuts & offal, except livers, fresh or ...  Export   \n",
       "2  Albania  Swine meat, salted/dried/smoked not ham/should...  Export   \n",
       "3  Albania                     Fowls, domestic, whole, frozen  Export   \n",
       "4  Albania  Meat and edible offal nes fresh, chilled or fr...  Export   \n",
       "\n",
       "   Quantity                       Category  Volume (m^3)  \\\n",
       "0        34  02_meat_and_edible_meat_offal            12   \n",
       "1        23  02_meat_and_edible_meat_offal            12   \n",
       "2        11  02_meat_and_edible_meat_offal            12   \n",
       "3        50  02_meat_and_edible_meat_offal            12   \n",
       "4        71  02_meat_and_edible_meat_offal            12   \n",
       "\n",
       "   Distance from India (m)  Frieght Cost (USD)  \n",
       "0              5940.830501         4840.697837  \n",
       "1              5940.830501         3069.710823  \n",
       "2              5940.830501         1475.822511  \n",
       "3              5940.830501         7083.948054  \n",
       "4              5940.830501         9976.560176  "
      ]
     },
     "execution_count": 21,
     "metadata": {},
     "output_type": "execute_result"
    }
   ],
   "source": [
    "df1 = pd.read_excel('Filtered_Dataset_Hackathon.xlsx')\n",
    "df1.head()"
   ]
  },
  {
   "cell_type": "code",
   "execution_count": 22,
   "id": "06496d00",
   "metadata": {},
   "outputs": [
    {
     "data": {
      "text/html": [
       "<div>\n",
       "<style scoped>\n",
       "    .dataframe tbody tr th:only-of-type {\n",
       "        vertical-align: middle;\n",
       "    }\n",
       "\n",
       "    .dataframe tbody tr th {\n",
       "        vertical-align: top;\n",
       "    }\n",
       "\n",
       "    .dataframe thead th {\n",
       "        text-align: right;\n",
       "    }\n",
       "</style>\n",
       "<table border=\"1\" class=\"dataframe\">\n",
       "  <thead>\n",
       "    <tr style=\"text-align: right;\">\n",
       "      <th></th>\n",
       "      <th>Quantity</th>\n",
       "      <th>Volume (m^3)</th>\n",
       "      <th>Distance from India (m)</th>\n",
       "      <th>Frieght Cost (USD)</th>\n",
       "    </tr>\n",
       "  </thead>\n",
       "  <tbody>\n",
       "    <tr>\n",
       "      <th>0</th>\n",
       "      <td>34</td>\n",
       "      <td>12</td>\n",
       "      <td>5940.830501</td>\n",
       "      <td>4840.697837</td>\n",
       "    </tr>\n",
       "    <tr>\n",
       "      <th>1</th>\n",
       "      <td>23</td>\n",
       "      <td>12</td>\n",
       "      <td>5940.830501</td>\n",
       "      <td>3069.710823</td>\n",
       "    </tr>\n",
       "    <tr>\n",
       "      <th>2</th>\n",
       "      <td>11</td>\n",
       "      <td>12</td>\n",
       "      <td>5940.830501</td>\n",
       "      <td>1475.822511</td>\n",
       "    </tr>\n",
       "    <tr>\n",
       "      <th>3</th>\n",
       "      <td>50</td>\n",
       "      <td>12</td>\n",
       "      <td>5940.830501</td>\n",
       "      <td>7083.948054</td>\n",
       "    </tr>\n",
       "    <tr>\n",
       "      <th>4</th>\n",
       "      <td>71</td>\n",
       "      <td>12</td>\n",
       "      <td>5940.830501</td>\n",
       "      <td>9976.560176</td>\n",
       "    </tr>\n",
       "  </tbody>\n",
       "</table>\n",
       "</div>"
      ],
      "text/plain": [
       "   Quantity  Volume (m^3)  Distance from India (m)  Frieght Cost (USD)\n",
       "0        34            12              5940.830501         4840.697837\n",
       "1        23            12              5940.830501         3069.710823\n",
       "2        11            12              5940.830501         1475.822511\n",
       "3        50            12              5940.830501         7083.948054\n",
       "4        71            12              5940.830501         9976.560176"
      ]
     },
     "execution_count": 22,
     "metadata": {},
     "output_type": "execute_result"
    }
   ],
   "source": [
    "X1 = df1.drop(['Country', 'Commodity','Flow','Category'], axis = 1)\n",
    "X1.head()"
   ]
  },
  {
   "cell_type": "code",
   "execution_count": 23,
   "id": "78d9b2d6",
   "metadata": {},
   "outputs": [
    {
     "data": {
      "text/html": [
       "<style>#sk-container-id-2 {color: black;background-color: white;}#sk-container-id-2 pre{padding: 0;}#sk-container-id-2 div.sk-toggleable {background-color: white;}#sk-container-id-2 label.sk-toggleable__label {cursor: pointer;display: block;width: 100%;margin-bottom: 0;padding: 0.3em;box-sizing: border-box;text-align: center;}#sk-container-id-2 label.sk-toggleable__label-arrow:before {content: \"▸\";float: left;margin-right: 0.25em;color: #696969;}#sk-container-id-2 label.sk-toggleable__label-arrow:hover:before {color: black;}#sk-container-id-2 div.sk-estimator:hover label.sk-toggleable__label-arrow:before {color: black;}#sk-container-id-2 div.sk-toggleable__content {max-height: 0;max-width: 0;overflow: hidden;text-align: left;background-color: #f0f8ff;}#sk-container-id-2 div.sk-toggleable__content pre {margin: 0.2em;color: black;border-radius: 0.25em;background-color: #f0f8ff;}#sk-container-id-2 input.sk-toggleable__control:checked~div.sk-toggleable__content {max-height: 200px;max-width: 100%;overflow: auto;}#sk-container-id-2 input.sk-toggleable__control:checked~label.sk-toggleable__label-arrow:before {content: \"▾\";}#sk-container-id-2 div.sk-estimator input.sk-toggleable__control:checked~label.sk-toggleable__label {background-color: #d4ebff;}#sk-container-id-2 div.sk-label input.sk-toggleable__control:checked~label.sk-toggleable__label {background-color: #d4ebff;}#sk-container-id-2 input.sk-hidden--visually {border: 0;clip: rect(1px 1px 1px 1px);clip: rect(1px, 1px, 1px, 1px);height: 1px;margin: -1px;overflow: hidden;padding: 0;position: absolute;width: 1px;}#sk-container-id-2 div.sk-estimator {font-family: monospace;background-color: #f0f8ff;border: 1px dotted black;border-radius: 0.25em;box-sizing: border-box;margin-bottom: 0.5em;}#sk-container-id-2 div.sk-estimator:hover {background-color: #d4ebff;}#sk-container-id-2 div.sk-parallel-item::after {content: \"\";width: 100%;border-bottom: 1px solid gray;flex-grow: 1;}#sk-container-id-2 div.sk-label:hover label.sk-toggleable__label {background-color: #d4ebff;}#sk-container-id-2 div.sk-serial::before {content: \"\";position: absolute;border-left: 1px solid gray;box-sizing: border-box;top: 0;bottom: 0;left: 50%;z-index: 0;}#sk-container-id-2 div.sk-serial {display: flex;flex-direction: column;align-items: center;background-color: white;padding-right: 0.2em;padding-left: 0.2em;position: relative;}#sk-container-id-2 div.sk-item {position: relative;z-index: 1;}#sk-container-id-2 div.sk-parallel {display: flex;align-items: stretch;justify-content: center;background-color: white;position: relative;}#sk-container-id-2 div.sk-item::before, #sk-container-id-2 div.sk-parallel-item::before {content: \"\";position: absolute;border-left: 1px solid gray;box-sizing: border-box;top: 0;bottom: 0;left: 50%;z-index: -1;}#sk-container-id-2 div.sk-parallel-item {display: flex;flex-direction: column;z-index: 1;position: relative;background-color: white;}#sk-container-id-2 div.sk-parallel-item:first-child::after {align-self: flex-end;width: 50%;}#sk-container-id-2 div.sk-parallel-item:last-child::after {align-self: flex-start;width: 50%;}#sk-container-id-2 div.sk-parallel-item:only-child::after {width: 0;}#sk-container-id-2 div.sk-dashed-wrapped {border: 1px dashed gray;margin: 0 0.4em 0.5em 0.4em;box-sizing: border-box;padding-bottom: 0.4em;background-color: white;}#sk-container-id-2 div.sk-label label {font-family: monospace;font-weight: bold;display: inline-block;line-height: 1.2em;}#sk-container-id-2 div.sk-label-container {text-align: center;}#sk-container-id-2 div.sk-container {/* jupyter's `normalize.less` sets `[hidden] { display: none; }` but bootstrap.min.css set `[hidden] { display: none !important; }` so we also need the `!important` here to be able to override the default hidden behavior on the sphinx rendered scikit-learn.org. See: https://github.com/scikit-learn/scikit-learn/issues/21755 */display: inline-block !important;position: relative;}#sk-container-id-2 div.sk-text-repr-fallback {display: none;}</style><div id=\"sk-container-id-2\" class=\"sk-top-container\"><div class=\"sk-text-repr-fallback\"><pre>XGBRegressor(base_score=None, booster=None, callbacks=None,\n",
       "             colsample_bylevel=None, colsample_bynode=None,\n",
       "             colsample_bytree=None, early_stopping_rounds=None,\n",
       "             enable_categorical=False, eval_metric=None, feature_types=None,\n",
       "             gamma=None, gpu_id=None, grow_policy=None, importance_type=None,\n",
       "             interaction_constraints=None, learning_rate=0.01, max_bin=None,\n",
       "             max_cat_threshold=None, max_cat_to_onehot=None,\n",
       "             max_delta_step=None, max_depth=None, max_leaves=None,\n",
       "             min_child_weight=None, missing=nan, monotone_constraints=None,\n",
       "             n_estimators=1000, n_jobs=None, num_parallel_tree=None,\n",
       "             predictor=None, random_state=None, ...)</pre><b>In a Jupyter environment, please rerun this cell to show the HTML representation or trust the notebook. <br />On GitHub, the HTML representation is unable to render, please try loading this page with nbviewer.org.</b></div><div class=\"sk-container\" hidden><div class=\"sk-item\"><div class=\"sk-estimator sk-toggleable\"><input class=\"sk-toggleable__control sk-hidden--visually\" id=\"sk-estimator-id-2\" type=\"checkbox\" checked><label for=\"sk-estimator-id-2\" class=\"sk-toggleable__label sk-toggleable__label-arrow\">XGBRegressor</label><div class=\"sk-toggleable__content\"><pre>XGBRegressor(base_score=None, booster=None, callbacks=None,\n",
       "             colsample_bylevel=None, colsample_bynode=None,\n",
       "             colsample_bytree=None, early_stopping_rounds=None,\n",
       "             enable_categorical=False, eval_metric=None, feature_types=None,\n",
       "             gamma=None, gpu_id=None, grow_policy=None, importance_type=None,\n",
       "             interaction_constraints=None, learning_rate=0.01, max_bin=None,\n",
       "             max_cat_threshold=None, max_cat_to_onehot=None,\n",
       "             max_delta_step=None, max_depth=None, max_leaves=None,\n",
       "             min_child_weight=None, missing=nan, monotone_constraints=None,\n",
       "             n_estimators=1000, n_jobs=None, num_parallel_tree=None,\n",
       "             predictor=None, random_state=None, ...)</pre></div></div></div></div></div>"
      ],
      "text/plain": [
       "XGBRegressor(base_score=None, booster=None, callbacks=None,\n",
       "             colsample_bylevel=None, colsample_bynode=None,\n",
       "             colsample_bytree=None, early_stopping_rounds=None,\n",
       "             enable_categorical=False, eval_metric=None, feature_types=None,\n",
       "             gamma=None, gpu_id=None, grow_policy=None, importance_type=None,\n",
       "             interaction_constraints=None, learning_rate=0.01, max_bin=None,\n",
       "             max_cat_threshold=None, max_cat_to_onehot=None,\n",
       "             max_delta_step=None, max_depth=None, max_leaves=None,\n",
       "             min_child_weight=None, missing=nan, monotone_constraints=None,\n",
       "             n_estimators=1000, n_jobs=None, num_parallel_tree=None,\n",
       "             predictor=None, random_state=None, ...)"
      ]
     },
     "execution_count": 23,
     "metadata": {},
     "output_type": "execute_result"
    }
   ],
   "source": [
    "X = X1.drop(\"Frieght Cost (USD)\", axis=\"columns\")\n",
    "Y = X1[\"Frieght Cost (USD)\"]\n",
    "from sklearn.model_selection import train_test_split\n",
    "X_train, X_test, Y_train, Y_test = train_test_split(X, Y, test_size=0.4)\n",
    "import xgboost as xgb\n",
    "mymodel = xgb.XGBRegressor(n_estimators=1000,learning_rate=0.01)\n",
    "mymodel.fit(X_train, Y_train)\n",
    "mymodel"
   ]
  },
  {
   "cell_type": "code",
   "execution_count": null,
   "id": "af6a3158",
   "metadata": {},
   "outputs": [],
   "source": [
    "y = df1['Frieght Cost (USD)']\n",
    "\n",
    "lr = LinearRegression() \n",
    "lr.fit(X, y)  \n",
    "pred = lr.predict(X) "
   ]
  },
  {
   "cell_type": "code",
   "execution_count": null,
   "id": "2ff90b34",
   "metadata": {},
   "outputs": [],
   "source": [
    "Y_test"
   ]
  },
  {
   "cell_type": "code",
   "execution_count": 24,
   "id": "44c34c44",
   "metadata": {},
   "outputs": [
    {
     "data": {
      "text/plain": [
       "0.9991792723662797"
      ]
     },
     "execution_count": 24,
     "metadata": {},
     "output_type": "execute_result"
    }
   ],
   "source": [
    "mymodel.score(X_test,Y_test)"
   ]
  },
  {
   "cell_type": "code",
   "execution_count": 25,
   "id": "60f0a48b",
   "metadata": {},
   "outputs": [],
   "source": [
    "y_pred = mymodel.predict(X_test)"
   ]
  },
  {
   "cell_type": "code",
   "execution_count": 28,
   "id": "32ef2aa4",
   "metadata": {},
   "outputs": [
    {
     "data": {
      "text/plain": [
       "array([5761.681], dtype=float32)"
      ]
     },
     "execution_count": 28,
     "metadata": {},
     "output_type": "execute_result"
    }
   ],
   "source": [
    "fields = [41,12,5940.830501]\n",
    "fields= np.array(fields).reshape((1,-1))\n",
    "prediction=mymodel.predict(fields)\n",
    "\n",
    "prediction"
   ]
  },
  {
   "cell_type": "code",
   "execution_count": null,
   "id": "28a2b5b5",
   "metadata": {},
   "outputs": [],
   "source": [
    "print('Mean Absolute Error:', metrics.mean_absolute_error(y, pred))  \n",
    "print('Mean Squared Error:', metrics.mean_squared_error(y, pred))  \n",
    "print('Root Mean Squared Error:', np.sqrt(metrics.mean_squared_error(y, pred)))\n",
    "print('R2:', np.sqrt(metrics.r2_score(y, pred)))"
   ]
  },
  {
   "cell_type": "code",
   "execution_count": null,
   "id": "2ce7429a",
   "metadata": {},
   "outputs": [],
   "source": [
    "features = [[5,12,7758.83]]\n",
    "print('The predicted price:', lr.predict(features)[0])"
   ]
  },
  {
   "cell_type": "code",
   "execution_count": 29,
   "id": "4a2dfbd5",
   "metadata": {},
   "outputs": [
    {
     "data": {
      "text/plain": [
       "['./../Savedmodels/ml-models.joblib']"
      ]
     },
     "execution_count": 29,
     "metadata": {},
     "output_type": "execute_result"
    }
   ],
   "source": [
    "from joblib import dump\n",
    "dump(mymodel,'./../Savedmodels/ml-models.joblib')"
   ]
  },
  {
   "cell_type": "code",
   "execution_count": null,
   "id": "a1694e41",
   "metadata": {},
   "outputs": [],
   "source": []
  }
 ],
 "metadata": {
  "kernelspec": {
   "display_name": "Python 3 (ipykernel)",
   "language": "python",
   "name": "python3"
  },
  "language_info": {
   "codemirror_mode": {
    "name": "ipython",
    "version": 3
   },
   "file_extension": ".py",
   "mimetype": "text/x-python",
   "name": "python",
   "nbconvert_exporter": "python",
   "pygments_lexer": "ipython3",
   "version": "3.10.8"
  }
 },
 "nbformat": 4,
 "nbformat_minor": 5
}
